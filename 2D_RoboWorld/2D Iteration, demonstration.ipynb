{
 "cells": [
  {
   "cell_type": "markdown",
   "metadata": {},
   "source": [
    "# 2D Iteration\n",
    "\n",
    "In this demonstration, you'll see how to iterate through a 2D array used nested loops, and we'll be using our iterative skills to locate trees in this world!\n",
    "\n",
    "### Create the world"
   ]
  },
  {
   "cell_type": "code",
   "execution_count": null,
   "metadata": {
    "collapsed": true
   },
   "outputs": [],
   "source": [
    "import numpy as np\n",
    "\n",
    "# A 6x5 robot world\n",
    "world = np.array([ [0, 0, 0, 1, 0],\n",
    "                   [0, 0, 0, 1, 0],\n",
    "                   [0, 1, 1, 0, 0],\n",
    "                   [0, 0, 0, 0, 1],\n",
    "                   [1, 0, 0, 1, 0],\n",
    "                   [1, 0, 0, 0, 0] ])\n",
    "\n",
    "# Print out some information about the world\n",
    "print(world)\n",
    "print('\\nThe shape of this array is: ' + str(world.shape))"
   ]
  },
  {
   "cell_type": "markdown",
   "metadata": {},
   "source": [
    "### Iterate through the items in the world"
   ]
  },
  {
   "cell_type": "code",
   "execution_count": null,
   "metadata": {
    "collapsed": true
   },
   "outputs": [],
   "source": [
    "# This function uses nested for loops and knowledge\n",
    "# about the shape of the array to print out each item with it's index\n",
    "def iterate2D(world):\n",
    "    # y-dimension (rows)\n",
    "    for i in range(0, world.shape[0]):\n",
    "        # x-dimension (columns)\n",
    "        for j in range(0, world.shape[1]):\n",
    "            print('Index ['+str(i)+']['+str(j)+'] = ' +str(world[i][j]))\n",
    "\n",
    "# Call the iterate function\n",
    "print('\\n')\n",
    "iterate2D(world)"
   ]
  },
  {
   "cell_type": "markdown",
   "metadata": {},
   "source": [
    "### Find the first tree, `1`, in the world"
   ]
  },
  {
   "cell_type": "code",
   "execution_count": null,
   "metadata": {
    "collapsed": true
   },
   "outputs": [],
   "source": [
    "# This function is similar to our iterate2D function,\n",
    "# But looks for the first tree in the array and prints its location [x][y]\n",
    "def first_tree(world):\n",
    "    # iterates through all indices starting at the top-left [0][0]\n",
    "    for i in range(0, world.shape[0]):\n",
    "        for j in range(0, world.shape[1]):\n",
    "            # check if a tree is found\n",
    "            if(world[i][j] == 1):\n",
    "                # if so, print the index and leave the loop with a return statement\n",
    "                print('First tree found at location: ['+str(i)+']['+str(j)+']')\n",
    "                return \n",
    "\n",
    "            \n",
    "# Call the first_tree function\n",
    "print('\\n')\n",
    "first_tree(world)"
   ]
  },
  {
   "cell_type": "code",
   "execution_count": null,
   "metadata": {
    "collapsed": true
   },
   "outputs": [],
   "source": []
  }
 ],
 "metadata": {
  "anaconda-cloud": {},
  "kernelspec": {
   "display_name": "Python 3",
   "language": "python",
   "name": "python3"
  },
  "language_info": {
   "codemirror_mode": {
    "name": "ipython",
    "version": 3
   },
   "file_extension": ".py",
   "mimetype": "text/x-python",
   "name": "python",
   "nbconvert_exporter": "python",
   "pygments_lexer": "ipython3",
   "version": "3.6.1"
  }
 },
 "nbformat": 4,
 "nbformat_minor": 1
}
