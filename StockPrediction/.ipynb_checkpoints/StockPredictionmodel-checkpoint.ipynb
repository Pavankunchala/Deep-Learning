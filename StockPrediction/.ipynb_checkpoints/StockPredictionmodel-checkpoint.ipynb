{
 "cells": [
  {
   "cell_type": "code",
   "execution_count": 1,
   "metadata": {},
   "outputs": [
    {
     "name": "stderr",
     "output_type": "stream",
     "text": [
      "<frozen importlib._bootstrap>:219: RuntimeWarning: numpy.ufunc size changed, may indicate binary incompatibility. Expected 192 from C header, got 216 from PyObject\n"
     ]
    }
   ],
   "source": [
    "import numpy as np\n",
    "import matplotlib.pyplot as plt\n",
    "import pandas as pd\n",
    "from sklearn.preprocessing import MinMaxScaler\n"
   ]
  },
  {
   "cell_type": "code",
   "execution_count": 2,
   "metadata": {},
   "outputs": [
    {
     "data": {
      "text/html": [
       "<div>\n",
       "<style scoped>\n",
       "    .dataframe tbody tr th:only-of-type {\n",
       "        vertical-align: middle;\n",
       "    }\n",
       "\n",
       "    .dataframe tbody tr th {\n",
       "        vertical-align: top;\n",
       "    }\n",
       "\n",
       "    .dataframe thead th {\n",
       "        text-align: right;\n",
       "    }\n",
       "</style>\n",
       "<table border=\"1\" class=\"dataframe\">\n",
       "  <thead>\n",
       "    <tr style=\"text-align: right;\">\n",
       "      <th></th>\n",
       "      <th>Date</th>\n",
       "      <th>Open</th>\n",
       "      <th>High</th>\n",
       "      <th>Low</th>\n",
       "      <th>Close</th>\n",
       "      <th>Adj Close</th>\n",
       "      <th>Volume</th>\n",
       "    </tr>\n",
       "  </thead>\n",
       "  <tbody>\n",
       "    <tr>\n",
       "      <th>2512</th>\n",
       "      <td>2020-08-25</td>\n",
       "      <td>1582.069946</td>\n",
       "      <td>1611.619995</td>\n",
       "      <td>1582.069946</td>\n",
       "      <td>1608.219971</td>\n",
       "      <td>1608.219971</td>\n",
       "      <td>2247100</td>\n",
       "    </tr>\n",
       "    <tr>\n",
       "      <th>2513</th>\n",
       "      <td>2020-08-26</td>\n",
       "      <td>1608.000000</td>\n",
       "      <td>1659.219971</td>\n",
       "      <td>1603.599976</td>\n",
       "      <td>1652.380005</td>\n",
       "      <td>1652.380005</td>\n",
       "      <td>3993400</td>\n",
       "    </tr>\n",
       "    <tr>\n",
       "      <th>2514</th>\n",
       "      <td>2020-08-27</td>\n",
       "      <td>1653.680054</td>\n",
       "      <td>1655.000000</td>\n",
       "      <td>1625.750000</td>\n",
       "      <td>1634.329956</td>\n",
       "      <td>1634.329956</td>\n",
       "      <td>1861600</td>\n",
       "    </tr>\n",
       "    <tr>\n",
       "      <th>2515</th>\n",
       "      <td>2020-08-28</td>\n",
       "      <td>1633.489990</td>\n",
       "      <td>1647.170044</td>\n",
       "      <td>1630.750000</td>\n",
       "      <td>1644.410034</td>\n",
       "      <td>1644.410034</td>\n",
       "      <td>1499800</td>\n",
       "    </tr>\n",
       "    <tr>\n",
       "      <th>2516</th>\n",
       "      <td>2020-08-31</td>\n",
       "      <td>1647.890015</td>\n",
       "      <td>1647.964966</td>\n",
       "      <td>1630.310059</td>\n",
       "      <td>1634.180054</td>\n",
       "      <td>1634.180054</td>\n",
       "      <td>1820600</td>\n",
       "    </tr>\n",
       "  </tbody>\n",
       "</table>\n",
       "</div>"
      ],
      "text/plain": [
       "            Date         Open         High          Low        Close  \\\n",
       "2512  2020-08-25  1582.069946  1611.619995  1582.069946  1608.219971   \n",
       "2513  2020-08-26  1608.000000  1659.219971  1603.599976  1652.380005   \n",
       "2514  2020-08-27  1653.680054  1655.000000  1625.750000  1634.329956   \n",
       "2515  2020-08-28  1633.489990  1647.170044  1630.750000  1644.410034   \n",
       "2516  2020-08-31  1647.890015  1647.964966  1630.310059  1634.180054   \n",
       "\n",
       "        Adj Close   Volume  \n",
       "2512  1608.219971  2247100  \n",
       "2513  1652.380005  3993400  \n",
       "2514  1634.329956  1861600  \n",
       "2515  1644.410034  1499800  \n",
       "2516  1634.180054  1820600  "
      ]
     },
     "execution_count": 2,
     "metadata": {},
     "output_type": "execute_result"
    }
   ],
   "source": [
    "data = pd.read_csv('GOOG.csv',date_parser=True)\n",
    "data.tail()"
   ]
  },
  {
   "cell_type": "markdown",
   "metadata": {},
   "source": [
    "###  we are going to take data before 2020 as training data"
   ]
  },
  {
   "cell_type": "code",
   "execution_count": 9,
   "metadata": {},
   "outputs": [],
   "source": [
    "data_training = data[data['Date']< '2020-01-01'].copy()\n",
    "data_testing = data[data['Date']>= '2020-01-01'].copy()\n"
   ]
  },
  {
   "cell_type": "code",
   "execution_count": 10,
   "metadata": {},
   "outputs": [],
   "source": [
    "# we are dropping the date and adjclose column\n",
    "data_training = data_training.drop(['Date', 'Adj Close'], axis = 1) "
   ]
  },
  {
   "cell_type": "code",
   "execution_count": 11,
   "metadata": {},
   "outputs": [
    {
     "data": {
      "text/plain": [
       "array([[0.00000000e+00, 2.24092550e-04, 0.00000000e+00, 0.00000000e+00,\n",
       "        2.17553365e-01],\n",
       "       [3.44442806e-03, 0.00000000e+00, 3.45120825e-03, 1.25428261e-03,\n",
       "        1.13367862e-01],\n",
       "       [6.80999163e-03, 3.27357031e-03, 6.60191571e-03, 4.38779099e-03,\n",
       "        1.71137409e-01],\n",
       "       ...,\n",
       "       [9.99683309e-01, 9.99585436e-01, 9.97019348e-01, 9.91801113e-01,\n",
       "        3.46355121e-02],\n",
       "       [9.88255595e-01, 9.89414742e-01, 9.83455509e-01, 9.77886021e-01,\n",
       "        3.50556420e-02],\n",
       "       [9.70757707e-01, 9.76183170e-01, 9.79077604e-01, 9.78663503e-01,\n",
       "        3.20609558e-02]])"
      ]
     },
     "execution_count": 11,
     "metadata": {},
     "output_type": "execute_result"
    }
   ],
   "source": [
    "# WE ARE  using min max scaler\n",
    "scaler = MinMaxScaler()\n",
    "\n",
    "data_training = scaler.fit_transform(data_training)\n",
    "data_training"
   ]
  },
  {
   "cell_type": "code",
   "execution_count": null,
   "metadata": {},
   "outputs": [],
   "source": []
  }
 ],
 "metadata": {
  "kernelspec": {
   "display_name": "Python 3",
   "language": "python",
   "name": "python3"
  },
  "language_info": {
   "codemirror_mode": {
    "name": "ipython",
    "version": 3
   },
   "file_extension": ".py",
   "mimetype": "text/x-python",
   "name": "python",
   "nbconvert_exporter": "python",
   "pygments_lexer": "ipython3",
   "version": "3.8.3"
  }
 },
 "nbformat": 4,
 "nbformat_minor": 4
}
