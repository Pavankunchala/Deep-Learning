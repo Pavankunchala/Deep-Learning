{
 "cells": [
  {
   "cell_type": "code",
   "execution_count": 1,
   "metadata": {},
   "outputs": [
    {
     "name": "stderr",
     "output_type": "stream",
     "text": [
      "<frozen importlib._bootstrap>:219: RuntimeWarning: numpy.ufunc size changed, may indicate binary incompatibility. Expected 192 from C header, got 216 from PyObject\n"
     ]
    }
   ],
   "source": [
    "import numpy as np\n",
    "import matplotlib.pyplot as plt\n",
    "import pandas as pd\n",
    "from sklearn.preprocessing import MinMaxScaler\n"
   ]
  },
  {
   "cell_type": "code",
   "execution_count": 2,
   "metadata": {},
   "outputs": [
    {
     "data": {
      "text/html": [
       "<div>\n",
       "<style scoped>\n",
       "    .dataframe tbody tr th:only-of-type {\n",
       "        vertical-align: middle;\n",
       "    }\n",
       "\n",
       "    .dataframe tbody tr th {\n",
       "        vertical-align: top;\n",
       "    }\n",
       "\n",
       "    .dataframe thead th {\n",
       "        text-align: right;\n",
       "    }\n",
       "</style>\n",
       "<table border=\"1\" class=\"dataframe\">\n",
       "  <thead>\n",
       "    <tr style=\"text-align: right;\">\n",
       "      <th></th>\n",
       "      <th>Date</th>\n",
       "      <th>Open</th>\n",
       "      <th>High</th>\n",
       "      <th>Low</th>\n",
       "      <th>Close</th>\n",
       "      <th>Adj Close</th>\n",
       "      <th>Volume</th>\n",
       "    </tr>\n",
       "  </thead>\n",
       "  <tbody>\n",
       "    <tr>\n",
       "      <th>2512</th>\n",
       "      <td>2020-08-25</td>\n",
       "      <td>1582.069946</td>\n",
       "      <td>1611.619995</td>\n",
       "      <td>1582.069946</td>\n",
       "      <td>1608.219971</td>\n",
       "      <td>1608.219971</td>\n",
       "      <td>2247100</td>\n",
       "    </tr>\n",
       "    <tr>\n",
       "      <th>2513</th>\n",
       "      <td>2020-08-26</td>\n",
       "      <td>1608.000000</td>\n",
       "      <td>1659.219971</td>\n",
       "      <td>1603.599976</td>\n",
       "      <td>1652.380005</td>\n",
       "      <td>1652.380005</td>\n",
       "      <td>3993400</td>\n",
       "    </tr>\n",
       "    <tr>\n",
       "      <th>2514</th>\n",
       "      <td>2020-08-27</td>\n",
       "      <td>1653.680054</td>\n",
       "      <td>1655.000000</td>\n",
       "      <td>1625.750000</td>\n",
       "      <td>1634.329956</td>\n",
       "      <td>1634.329956</td>\n",
       "      <td>1861600</td>\n",
       "    </tr>\n",
       "    <tr>\n",
       "      <th>2515</th>\n",
       "      <td>2020-08-28</td>\n",
       "      <td>1633.489990</td>\n",
       "      <td>1647.170044</td>\n",
       "      <td>1630.750000</td>\n",
       "      <td>1644.410034</td>\n",
       "      <td>1644.410034</td>\n",
       "      <td>1499800</td>\n",
       "    </tr>\n",
       "    <tr>\n",
       "      <th>2516</th>\n",
       "      <td>2020-08-31</td>\n",
       "      <td>1647.890015</td>\n",
       "      <td>1647.964966</td>\n",
       "      <td>1630.310059</td>\n",
       "      <td>1634.180054</td>\n",
       "      <td>1634.180054</td>\n",
       "      <td>1820600</td>\n",
       "    </tr>\n",
       "  </tbody>\n",
       "</table>\n",
       "</div>"
      ],
      "text/plain": [
       "            Date         Open         High          Low        Close  \\\n",
       "2512  2020-08-25  1582.069946  1611.619995  1582.069946  1608.219971   \n",
       "2513  2020-08-26  1608.000000  1659.219971  1603.599976  1652.380005   \n",
       "2514  2020-08-27  1653.680054  1655.000000  1625.750000  1634.329956   \n",
       "2515  2020-08-28  1633.489990  1647.170044  1630.750000  1644.410034   \n",
       "2516  2020-08-31  1647.890015  1647.964966  1630.310059  1634.180054   \n",
       "\n",
       "        Adj Close   Volume  \n",
       "2512  1608.219971  2247100  \n",
       "2513  1652.380005  3993400  \n",
       "2514  1634.329956  1861600  \n",
       "2515  1644.410034  1499800  \n",
       "2516  1634.180054  1820600  "
      ]
     },
     "execution_count": 2,
     "metadata": {},
     "output_type": "execute_result"
    }
   ],
   "source": [
    "data = pd.read_csv('GOOG.csv',date_parser=True)\n",
    "data.tail()"
   ]
  },
  {
   "cell_type": "markdown",
   "metadata": {},
   "source": [
    "###  we are going to take data before 2020 as training data"
   ]
  },
  {
   "cell_type": "code",
   "execution_count": 19,
   "metadata": {},
   "outputs": [],
   "source": [
    "data_training = data[data['Date']< '2020-01-01'].copy()\n",
    "data_test= data[data['Date']>= '2020-01-01'].copy()\n"
   ]
  },
  {
   "cell_type": "code",
   "execution_count": 10,
   "metadata": {},
   "outputs": [],
   "source": [
    "# we are dropping the date and adjclose column\n",
    "data_training = data_training.drop(['Date', 'Adj Close'], axis = 1) "
   ]
  },
  {
   "cell_type": "code",
   "execution_count": 11,
   "metadata": {},
   "outputs": [
    {
     "data": {
      "text/plain": [
       "array([[0.00000000e+00, 2.24092550e-04, 0.00000000e+00, 0.00000000e+00,\n",
       "        2.17553365e-01],\n",
       "       [3.44442806e-03, 0.00000000e+00, 3.45120825e-03, 1.25428261e-03,\n",
       "        1.13367862e-01],\n",
       "       [6.80999163e-03, 3.27357031e-03, 6.60191571e-03, 4.38779099e-03,\n",
       "        1.71137409e-01],\n",
       "       ...,\n",
       "       [9.99683309e-01, 9.99585436e-01, 9.97019348e-01, 9.91801113e-01,\n",
       "        3.46355121e-02],\n",
       "       [9.88255595e-01, 9.89414742e-01, 9.83455509e-01, 9.77886021e-01,\n",
       "        3.50556420e-02],\n",
       "       [9.70757707e-01, 9.76183170e-01, 9.79077604e-01, 9.78663503e-01,\n",
       "        3.20609558e-02]])"
      ]
     },
     "execution_count": 11,
     "metadata": {},
     "output_type": "execute_result"
    }
   ],
   "source": [
    "# WE ARE  using min max scaler\n",
    "scaler = MinMaxScaler()\n",
    "\n",
    "data_training = scaler.fit_transform(data_training)\n",
    "data_training"
   ]
  },
  {
   "cell_type": "code",
   "execution_count": 12,
   "metadata": {},
   "outputs": [],
   "source": [
    "X_train = []\n",
    "y_train = []\n",
    "\n",
    "for i in range(60, data_training.shape[0]):\n",
    "    X_train.append(data_training[i-60:i])\n",
    "    y_train.append(data_training[i, 0])\n",
    "    \n",
    "X_train, y_train = np.array(X_train), np.array(y_train)"
   ]
  },
  {
   "cell_type": "code",
   "execution_count": 13,
   "metadata": {},
   "outputs": [
    {
     "data": {
      "text/plain": [
       "(2289, 60, 5)"
      ]
     },
     "execution_count": 13,
     "metadata": {},
     "output_type": "execute_result"
    }
   ],
   "source": [
    "X_train.shape"
   ]
  },
  {
   "cell_type": "code",
   "execution_count": 14,
   "metadata": {},
   "outputs": [],
   "source": [
    "from tensorflow.keras import Sequential\n",
    "from tensorflow.keras.layers import Dense, LSTM, Dropout\n"
   ]
  },
  {
   "cell_type": "code",
   "execution_count": 15,
   "metadata": {},
   "outputs": [],
   "source": [
    "regressor = Sequential()\n",
    "\n",
    "regressor.add(LSTM(units = 60, activation = 'relu', return_sequences = True, input_shape = (X_train.shape[1], 5)))\n",
    "regressor.add(Dropout(0.2))\n",
    "\n",
    "regressor.add(LSTM(units = 60, activation = 'relu', return_sequences = True))\n",
    "regressor.add(Dropout(0.2))\n",
    "\n",
    "regressor.add(LSTM(units = 80, activation = 'relu', return_sequences = True))\n",
    "regressor.add(Dropout(0.2))\n",
    "\n",
    "regressor.add(LSTM(units = 120, activation = 'relu'))\n",
    "regressor.add(Dropout(0.2))\n",
    "\n",
    "regressor.add(Dense(units = 1))"
   ]
  },
  {
   "cell_type": "code",
   "execution_count": 16,
   "metadata": {},
   "outputs": [
    {
     "name": "stdout",
     "output_type": "stream",
     "text": [
      "Model: \"sequential\"\n",
      "_________________________________________________________________\n",
      "Layer (type)                 Output Shape              Param #   \n",
      "=================================================================\n",
      "lstm (LSTM)                  (None, 60, 60)            15840     \n",
      "_________________________________________________________________\n",
      "dropout (Dropout)            (None, 60, 60)            0         \n",
      "_________________________________________________________________\n",
      "lstm_1 (LSTM)                (None, 60, 60)            29040     \n",
      "_________________________________________________________________\n",
      "dropout_1 (Dropout)          (None, 60, 60)            0         \n",
      "_________________________________________________________________\n",
      "lstm_2 (LSTM)                (None, 60, 80)            45120     \n",
      "_________________________________________________________________\n",
      "dropout_2 (Dropout)          (None, 60, 80)            0         \n",
      "_________________________________________________________________\n",
      "lstm_3 (LSTM)                (None, 120)               96480     \n",
      "_________________________________________________________________\n",
      "dropout_3 (Dropout)          (None, 120)               0         \n",
      "_________________________________________________________________\n",
      "dense (Dense)                (None, 1)                 121       \n",
      "=================================================================\n",
      "Total params: 186,601\n",
      "Trainable params: 186,601\n",
      "Non-trainable params: 0\n",
      "_________________________________________________________________\n"
     ]
    }
   ],
   "source": [
    "regressor.summary()"
   ]
  },
  {
   "cell_type": "code",
   "execution_count": 17,
   "metadata": {},
   "outputs": [
    {
     "name": "stdout",
     "output_type": "stream",
     "text": [
      "Epoch 1/50\n",
      "72/72 [==============================] - 10s 136ms/step - loss: 0.0302\n",
      "Epoch 2/50\n",
      "72/72 [==============================] - 11s 148ms/step - loss: 0.0040\n",
      "Epoch 3/50\n",
      "72/72 [==============================] - 9s 130ms/step - loss: 0.0035\n",
      "Epoch 4/50\n",
      "72/72 [==============================] - 10s 137ms/step - loss: 0.0031\n",
      "Epoch 5/50\n",
      "72/72 [==============================] - 9s 124ms/step - loss: 0.0036\n",
      "Epoch 6/50\n",
      "72/72 [==============================] - 9s 126ms/step - loss: 0.0031\n",
      "Epoch 7/50\n",
      "72/72 [==============================] - 9s 126ms/step - loss: 0.0026\n",
      "Epoch 8/50\n",
      "72/72 [==============================] - 9s 128ms/step - loss: 0.0025\n",
      "Epoch 9/50\n",
      "72/72 [==============================] - 9s 123ms/step - loss: 0.0028\n",
      "Epoch 10/50\n",
      "72/72 [==============================] - 9s 127ms/step - loss: 0.0026\n",
      "Epoch 11/50\n",
      "72/72 [==============================] - 9s 123ms/step - loss: 0.0023\n",
      "Epoch 12/50\n",
      "72/72 [==============================] - 9s 124ms/step - loss: 0.0024\n",
      "Epoch 13/50\n",
      "72/72 [==============================] - 9s 130ms/step - loss: 0.0023\n",
      "Epoch 14/50\n",
      "72/72 [==============================] - 9s 125ms/step - loss: 0.0022\n",
      "Epoch 15/50\n",
      "72/72 [==============================] - 9s 121ms/step - loss: 0.0020\n",
      "Epoch 16/50\n",
      "72/72 [==============================] - 9s 127ms/step - loss: 0.0027\n",
      "Epoch 17/50\n",
      "72/72 [==============================] - 9s 123ms/step - loss: 0.0020\n",
      "Epoch 18/50\n",
      "72/72 [==============================] - 9s 121ms/step - loss: 0.0019\n",
      "Epoch 19/50\n",
      "72/72 [==============================] - 9s 123ms/step - loss: 0.0022\n",
      "Epoch 20/50\n",
      "72/72 [==============================] - 9s 123ms/step - loss: 0.0020\n",
      "Epoch 21/50\n",
      "72/72 [==============================] - 9s 124ms/step - loss: 0.0020\n",
      "Epoch 22/50\n",
      "72/72 [==============================] - 9s 123ms/step - loss: 0.0018\n",
      "Epoch 23/50\n",
      "72/72 [==============================] - 9s 124ms/step - loss: 0.0020\n",
      "Epoch 24/50\n",
      "72/72 [==============================] - 9s 124ms/step - loss: 0.0018\n",
      "Epoch 25/50\n",
      "72/72 [==============================] - 9s 128ms/step - loss: 0.0018\n",
      "Epoch 26/50\n",
      "72/72 [==============================] - 9s 125ms/step - loss: 0.0017\n",
      "Epoch 27/50\n",
      "72/72 [==============================] - 9s 129ms/step - loss: 0.0017\n",
      "Epoch 28/50\n",
      "72/72 [==============================] - 9s 122ms/step - loss: 0.0016\n",
      "Epoch 29/50\n",
      "72/72 [==============================] - 9s 123ms/step - loss: 0.0017\n",
      "Epoch 30/50\n",
      "72/72 [==============================] - 9s 125ms/step - loss: 0.0017\n",
      "Epoch 31/50\n",
      "72/72 [==============================] - 9s 123ms/step - loss: 0.0017\n",
      "Epoch 32/50\n",
      "72/72 [==============================] - 9s 123ms/step - loss: 0.0015\n",
      "Epoch 33/50\n",
      "72/72 [==============================] - 9s 124ms/step - loss: 0.0015\n",
      "Epoch 34/50\n",
      "72/72 [==============================] - 9s 123ms/step - loss: 0.0015\n",
      "Epoch 35/50\n",
      "72/72 [==============================] - 9s 123ms/step - loss: 0.0014\n",
      "Epoch 36/50\n",
      "72/72 [==============================] - 9s 125ms/step - loss: 0.0014\n",
      "Epoch 37/50\n",
      "72/72 [==============================] - 9s 126ms/step - loss: 0.0017\n",
      "Epoch 38/50\n",
      "72/72 [==============================] - 9s 123ms/step - loss: 0.0015\n",
      "Epoch 39/50\n",
      "72/72 [==============================] - 9s 123ms/step - loss: 0.0013\n",
      "Epoch 40/50\n",
      "72/72 [==============================] - 9s 124ms/step - loss: 0.0015\n",
      "Epoch 41/50\n",
      "72/72 [==============================] - 9s 131ms/step - loss: 0.0015\n",
      "Epoch 42/50\n",
      "72/72 [==============================] - 9s 130ms/step - loss: 0.0015\n",
      "Epoch 43/50\n",
      "72/72 [==============================] - 9s 123ms/step - loss: 0.0014\n",
      "Epoch 44/50\n",
      "72/72 [==============================] - 9s 122ms/step - loss: 0.0013\n",
      "Epoch 45/50\n",
      "72/72 [==============================] - 9s 121ms/step - loss: 0.0013\n",
      "Epoch 46/50\n",
      "72/72 [==============================] - 9s 124ms/step - loss: 0.0012\n",
      "Epoch 47/50\n",
      "72/72 [==============================] - 9s 123ms/step - loss: 0.0011\n",
      "Epoch 48/50\n",
      "72/72 [==============================] - 9s 122ms/step - loss: 0.0014\n",
      "Epoch 49/50\n",
      "72/72 [==============================] - 9s 121ms/step - loss: 0.0013\n",
      "Epoch 50/50\n",
      "72/72 [==============================] - 9s 123ms/step - loss: 0.0012\n"
     ]
    },
    {
     "data": {
      "text/plain": [
       "<tensorflow.python.keras.callbacks.History at 0x7fd90aee2f40>"
      ]
     },
     "execution_count": 17,
     "metadata": {},
     "output_type": "execute_result"
    }
   ],
   "source": [
    "regressor.compile(optimizer='adam', loss = 'mean_squared_error')\n",
    "regressor.fit(X_train, y_train, epochs=50, batch_size=32)"
   ]
  },
  {
   "cell_type": "code",
   "execution_count": 20,
   "metadata": {},
   "outputs": [
    {
     "data": {
      "text/html": [
       "<div>\n",
       "<style scoped>\n",
       "    .dataframe tbody tr th:only-of-type {\n",
       "        vertical-align: middle;\n",
       "    }\n",
       "\n",
       "    .dataframe tbody tr th {\n",
       "        vertical-align: top;\n",
       "    }\n",
       "\n",
       "    .dataframe thead th {\n",
       "        text-align: right;\n",
       "    }\n",
       "</style>\n",
       "<table border=\"1\" class=\"dataframe\">\n",
       "  <thead>\n",
       "    <tr style=\"text-align: right;\">\n",
       "      <th></th>\n",
       "      <th>Date</th>\n",
       "      <th>Open</th>\n",
       "      <th>High</th>\n",
       "      <th>Low</th>\n",
       "      <th>Close</th>\n",
       "      <th>Adj Close</th>\n",
       "      <th>Volume</th>\n",
       "    </tr>\n",
       "  </thead>\n",
       "  <tbody>\n",
       "    <tr>\n",
       "      <th>2349</th>\n",
       "      <td>2020-01-02</td>\n",
       "      <td>1341.550049</td>\n",
       "      <td>1368.140015</td>\n",
       "      <td>1341.550049</td>\n",
       "      <td>1367.369995</td>\n",
       "      <td>1367.369995</td>\n",
       "      <td>1406600</td>\n",
       "    </tr>\n",
       "    <tr>\n",
       "      <th>2350</th>\n",
       "      <td>2020-01-03</td>\n",
       "      <td>1347.859985</td>\n",
       "      <td>1372.500000</td>\n",
       "      <td>1345.543945</td>\n",
       "      <td>1360.660034</td>\n",
       "      <td>1360.660034</td>\n",
       "      <td>1186400</td>\n",
       "    </tr>\n",
       "    <tr>\n",
       "      <th>2351</th>\n",
       "      <td>2020-01-06</td>\n",
       "      <td>1350.000000</td>\n",
       "      <td>1396.500000</td>\n",
       "      <td>1350.000000</td>\n",
       "      <td>1394.209961</td>\n",
       "      <td>1394.209961</td>\n",
       "      <td>1732300</td>\n",
       "    </tr>\n",
       "    <tr>\n",
       "      <th>2352</th>\n",
       "      <td>2020-01-07</td>\n",
       "      <td>1397.939941</td>\n",
       "      <td>1402.989990</td>\n",
       "      <td>1390.380005</td>\n",
       "      <td>1393.339966</td>\n",
       "      <td>1393.339966</td>\n",
       "      <td>1502700</td>\n",
       "    </tr>\n",
       "    <tr>\n",
       "      <th>2353</th>\n",
       "      <td>2020-01-08</td>\n",
       "      <td>1392.079956</td>\n",
       "      <td>1411.579956</td>\n",
       "      <td>1390.839966</td>\n",
       "      <td>1404.319946</td>\n",
       "      <td>1404.319946</td>\n",
       "      <td>1528000</td>\n",
       "    </tr>\n",
       "  </tbody>\n",
       "</table>\n",
       "</div>"
      ],
      "text/plain": [
       "            Date         Open         High          Low        Close  \\\n",
       "2349  2020-01-02  1341.550049  1368.140015  1341.550049  1367.369995   \n",
       "2350  2020-01-03  1347.859985  1372.500000  1345.543945  1360.660034   \n",
       "2351  2020-01-06  1350.000000  1396.500000  1350.000000  1394.209961   \n",
       "2352  2020-01-07  1397.939941  1402.989990  1390.380005  1393.339966   \n",
       "2353  2020-01-08  1392.079956  1411.579956  1390.839966  1404.319946   \n",
       "\n",
       "        Adj Close   Volume  \n",
       "2349  1367.369995  1406600  \n",
       "2350  1360.660034  1186400  \n",
       "2351  1394.209961  1732300  \n",
       "2352  1393.339966  1502700  \n",
       "2353  1404.319946  1528000  "
      ]
     },
     "execution_count": 20,
     "metadata": {},
     "output_type": "execute_result"
    }
   ],
   "source": [
    "data_test.head()\n"
   ]
  },
  {
   "cell_type": "code",
   "execution_count": 21,
   "metadata": {},
   "outputs": [],
   "source": [
    "past_60_days = data_training.tail(60)"
   ]
  },
  {
   "cell_type": "code",
   "execution_count": 22,
   "metadata": {},
   "outputs": [
    {
     "data": {
      "text/html": [
       "<div>\n",
       "<style scoped>\n",
       "    .dataframe tbody tr th:only-of-type {\n",
       "        vertical-align: middle;\n",
       "    }\n",
       "\n",
       "    .dataframe tbody tr th {\n",
       "        vertical-align: top;\n",
       "    }\n",
       "\n",
       "    .dataframe thead th {\n",
       "        text-align: right;\n",
       "    }\n",
       "</style>\n",
       "<table border=\"1\" class=\"dataframe\">\n",
       "  <thead>\n",
       "    <tr style=\"text-align: right;\">\n",
       "      <th></th>\n",
       "      <th>Open</th>\n",
       "      <th>High</th>\n",
       "      <th>Low</th>\n",
       "      <th>Close</th>\n",
       "      <th>Volume</th>\n",
       "    </tr>\n",
       "  </thead>\n",
       "  <tbody>\n",
       "    <tr>\n",
       "      <th>0</th>\n",
       "      <td>1204.400024</td>\n",
       "      <td>1218.203979</td>\n",
       "      <td>1203.750000</td>\n",
       "      <td>1207.680054</td>\n",
       "      <td>842900</td>\n",
       "    </tr>\n",
       "    <tr>\n",
       "      <th>1</th>\n",
       "      <td>1197.589966</td>\n",
       "      <td>1206.079956</td>\n",
       "      <td>1189.010010</td>\n",
       "      <td>1189.130005</td>\n",
       "      <td>1039300</td>\n",
       "    </tr>\n",
       "    <tr>\n",
       "      <th>2</th>\n",
       "      <td>1199.349976</td>\n",
       "      <td>1208.349976</td>\n",
       "      <td>1197.630005</td>\n",
       "      <td>1202.310059</td>\n",
       "      <td>867700</td>\n",
       "    </tr>\n",
       "    <tr>\n",
       "      <th>3</th>\n",
       "      <td>1198.579956</td>\n",
       "      <td>1215.000000</td>\n",
       "      <td>1197.339966</td>\n",
       "      <td>1208.670044</td>\n",
       "      <td>846600</td>\n",
       "    </tr>\n",
       "    <tr>\n",
       "      <th>4</th>\n",
       "      <td>1222.209961</td>\n",
       "      <td>1228.390015</td>\n",
       "      <td>1213.739990</td>\n",
       "      <td>1215.449951</td>\n",
       "      <td>1272700</td>\n",
       "    </tr>\n",
       "  </tbody>\n",
       "</table>\n",
       "</div>"
      ],
      "text/plain": [
       "          Open         High          Low        Close   Volume\n",
       "0  1204.400024  1218.203979  1203.750000  1207.680054   842900\n",
       "1  1197.589966  1206.079956  1189.010010  1189.130005  1039300\n",
       "2  1199.349976  1208.349976  1197.630005  1202.310059   867700\n",
       "3  1198.579956  1215.000000  1197.339966  1208.670044   846600\n",
       "4  1222.209961  1228.390015  1213.739990  1215.449951  1272700"
      ]
     },
     "execution_count": 22,
     "metadata": {},
     "output_type": "execute_result"
    }
   ],
   "source": [
    "df = past_60_days.append(data_test, ignore_index = True)\n",
    "df = df.drop(['Date', 'Adj Close'], axis = 1)\n",
    "df.head()"
   ]
  },
  {
   "cell_type": "code",
   "execution_count": 23,
   "metadata": {},
   "outputs": [
    {
     "data": {
      "text/plain": [
       "array([[0.8601666 , 0.87051053, 0.86789259, 0.86439191, 0.02806468],\n",
       "       [0.85417557, 0.85981587, 0.85481671, 0.84800298, 0.03466576],\n",
       "       [0.85572391, 0.86181826, 0.86246353, 0.85964753, 0.02889822],\n",
       "       ...,\n",
       "       [1.25541274, 1.25581039, 1.24225003, 1.24133622, 0.06230359],\n",
       "       [1.23765089, 1.24890355, 1.24668554, 1.25024195, 0.05014335],\n",
       "       [1.25031905, 1.24960476, 1.24629527, 1.24120379, 0.06092556]])"
      ]
     },
     "execution_count": 23,
     "metadata": {},
     "output_type": "execute_result"
    }
   ],
   "source": [
    "inputs = scaler.transform(df)\n",
    "inputs"
   ]
  },
  {
   "cell_type": "code",
   "execution_count": 24,
   "metadata": {},
   "outputs": [
    {
     "data": {
      "text/plain": [
       "((168, 60, 5), (168,))"
      ]
     },
     "execution_count": 24,
     "metadata": {},
     "output_type": "execute_result"
    }
   ],
   "source": [
    "X_test = []\n",
    "y_test = []\n",
    "\n",
    "for i in range(60, inputs.shape[0]):\n",
    "    X_test.append(inputs[i-60:i])\n",
    "    y_test.append(inputs[i, 0])\n",
    "\n",
    "X_test, y_test = np.array(X_test), np.array(y_test)\n",
    "X_test.shape, y_test.shape"
   ]
  },
  {
   "cell_type": "code",
   "execution_count": 25,
   "metadata": {},
   "outputs": [],
   "source": [
    "y_pred = regressor.predict(X_test)"
   ]
  },
  {
   "cell_type": "code",
   "execution_count": 26,
   "metadata": {},
   "outputs": [
    {
     "data": {
      "text/plain": [
       "array([8.79732266e-04, 8.82104801e-04, 8.87102916e-04, 8.83497955e-04,\n",
       "       3.36103950e-08])"
      ]
     },
     "execution_count": 26,
     "metadata": {},
     "output_type": "execute_result"
    }
   ],
   "source": [
    "scaler.scale_"
   ]
  },
  {
   "cell_type": "code",
   "execution_count": 27,
   "metadata": {},
   "outputs": [
    {
     "data": {
      "text/plain": [
       "1221.5901990069017"
      ]
     },
     "execution_count": 27,
     "metadata": {},
     "output_type": "execute_result"
    }
   ],
   "source": [
    "scale = 1/8.18605127e-04\n",
    "scale"
   ]
  },
  {
   "cell_type": "code",
   "execution_count": 28,
   "metadata": {},
   "outputs": [],
   "source": [
    "y_pred = y_pred*scale\n",
    "y_test = y_test*scale"
   ]
  },
  {
   "cell_type": "code",
   "execution_count": 29,
   "metadata": {},
   "outputs": [
    {
     "data": {
      "image/png": "[encoded data removed]",
      "text/plain": [
       "<Figure size 1008x360 with 1 Axes>"
      ]
     },
     "metadata": {
      "needs_background": "light"
     },
     "output_type": "display_data"
    }
   ],
   "source": [
    "# Visualising the results\n",
    "plt.figure(figsize=(14,5))\n",
    "plt.plot(y_test, color = 'red', label = 'Real Google Stock Price')\n",
    "plt.plot(y_pred, color = 'blue', label = 'Predicted Google Stock Price')\n",
    "plt.title('Google Stock Price Prediction')\n",
    "plt.xlabel('Time')\n",
    "plt.ylabel('Google Stock Price')\n",
    "plt.legend()\n",
    "plt.show()"
   ]
  },
  {
   "cell_type": "code",
   "execution_count": null,
   "metadata": {},
   "outputs": [],
   "source": []
  }
 ],
 "metadata": {
  "kernelspec": {
   "display_name": "Python 3",
   "language": "python",
   "name": "python3"
  },
  "language_info": {
   "codemirror_mode": {
    "name": "ipython",
    "version": 3
   },
   "file_extension": ".py",
   "mimetype": "text/x-python",
   "name": "python",
   "nbconvert_exporter": "python",
   "pygments_lexer": "ipython3",
   "version": "3.8.3"
  }
 },
 "nbformat": 4,
 "nbformat_minor": 4
}
